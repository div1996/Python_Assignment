{
 "cells": [
  {
   "cell_type": "markdown",
   "metadata": {},
   "source": [
    "# Q1 Write a program which takes X,Y as input and generates a 2-dimensional array. The element value in the i-th row and j-th column of the array should be i*j\n",
    "\n",
    "Note: i=0,1.., X-1; j=0,1,........Y-1.\n",
    "\n",
    "Examples\n",
    "\n",
    "i/p 3,5\n",
    "\n",
    "Then, the output of the program should be:\n",
    "\n",
    "[[0, 0, 0, 0, 0], [0, 1, 2, 3, 4], [0, 2, 4, 6, 8]]"
   ]
  },
  {
   "cell_type": "code",
   "execution_count": 51,
   "metadata": {},
   "outputs": [],
   "source": [
    "def mul(x,y):\n",
    "    output=[]\n",
    "    for i in range(0,x):\n",
    "        result = [j*i for j in range(0,y)]\n",
    "        output.append(result)\n",
    "    return output"
   ]
  },
  {
   "cell_type": "code",
   "execution_count": 55,
   "metadata": {},
   "outputs": [
    {
     "data": {
      "text/plain": [
       "[[0, 0, 0, 0, 0], [0, 1, 2, 3, 4], [0, 2, 4, 6, 8]]"
      ]
     },
     "execution_count": 55,
     "metadata": {},
     "output_type": "execute_result"
    }
   ],
   "source": [
    "mul(3,5)"
   ]
  },
  {
   "cell_type": "markdown",
   "metadata": {},
   "source": [
    "# Q2 WAP that accept a string and calculate latters(UPPER case and lower case) and digits.( do not consider special character and space)\n",
    "\n",
    "Example\n",
    "\n",
    "i/p : Hello world @ @ 123\n",
    "\n",
    "o/p:\n",
    "\n",
    "UPPER LETTERS : 1\n",
    "\n",
    "LOWER LETTERS: 9\n",
    "\n",
    "DIGITS 3\n",
    "\n"
   ]
  },
  {
   "cell_type": "code",
   "execution_count": 57,
   "metadata": {},
   "outputs": [],
   "source": [
    "def count_let(string):\n",
    "    \"\"\"Defining the upper,lower and \n",
    "    digits 0, then verify that the object is \n",
    "    in lowercase ,uppercase or a digit\n",
    "    and then add 1 in upper,lower,digit\"\"\"\n",
    "    upper = 0\n",
    "    lower = 0\n",
    "    digit = 0\n",
    "    for i in a:\n",
    "        if i.islower():\n",
    "            lower+=1\n",
    "        elif i.isupper():\n",
    "            upper+=1\n",
    "        elif i.isdigit():\n",
    "            digit+=1\n",
    "        else:\n",
    "            pass\n",
    "    print (\"UPPER LETTERS :\",upper)\n",
    "    print (\"LOWER LETTERS :\",lower)\n",
    "    print (\"DIGITS :\",digit)\n",
    "    "
   ]
  },
  {
   "cell_type": "code",
   "execution_count": 58,
   "metadata": {},
   "outputs": [
    {
     "name": "stdout",
     "output_type": "stream",
     "text": [
      "UPPER LETTERS : 1\n",
      "LOWER LETTERS : 9\n",
      "DIGITS : 3\n"
     ]
    }
   ],
   "source": [
    "count_let(a)"
   ]
  },
  {
   "cell_type": "markdown",
   "metadata": {},
   "source": [
    "# Q3 Create a class Rectangle. Use constructor to initialize length and width attributes.\n",
    "\n",
    " Create Perimeter() and Area() method to calculate Perimeter and area of the rectangle.\n",
    "\n",
    "Create display() method tot display the length, width, perimeter and area\n",
    "\n",
    "Create a Parallelepipede child class that inherit Rectangle class and accept one more attribute height and having Volume() method to calculate the volume of the Parallelepiped.\n",
    "\n"
   ]
  },
  {
   "cell_type": "code",
   "execution_count": 56,
   "metadata": {},
   "outputs": [],
   "source": [
    "class Rectangle:\n",
    "    \"\"\"Create a class Rectangle. Use constructor to initialize length and width attributes.\n",
    "    Create Perimeter() and Area() method to calculate Perimeter and area of the rectangle.\n",
    "    Create display() method tot display the length, width, perimeter and area\n",
    "    Create a Parallelepipede child class that inherit Rectangle class and accept one more \n",
    "    attribute height and having Volume() method to calculate the volume of the Parallelepiped.\"\"\"\n",
    "    \n",
    "    def __init__(self,length,width):\n",
    "        self.length = length\n",
    "        self.width = width\n",
    "        \n",
    "        \n",
    "    def Perimeter(self):\n",
    "        \"\"\"Perimeter of Rectangle is sum of all side:-\n",
    "            Perimeter of Rectangle = 2*(length+Width)\"\"\"\n",
    "        self.perimeter = 2*(self.length+self.width)\n",
    "        \n",
    "        \n",
    "    def Area (self):\n",
    "        \"\"\"Area of Rectangle is product of length and width:-\n",
    "            Area of Rectangle = (length*Width)\"\"\"\n",
    "        self.area = self.length * self.width\n",
    "        \n",
    "    def display(self):\n",
    "        print (\"The length of Rectangle is :\",self.length)\n",
    "        print (\"The width of Rectangle is :\",self.width)\n",
    "        print (\"The Perimeter of Rectangle is :\",self.perimeter)\n",
    "        print (\"The Area of Rectangle is :\",self.area)\n",
    "        \n",
    "        \n",
    "class Parallelepipede(Rectangle):\n",
    "    \"\"\"Formula for volume of Parallelepipede \n",
    "        of rectangle is volume = length*width*height\"\"\"\n",
    "    \n",
    "    def __init__(self,length,width,height):\n",
    "        super().__init__(length,width)\n",
    "        self.height = height\n",
    "        \n",
    "    def volume(self):\n",
    "        print (\"The volume of Parallelepipede :\",(self.length*self.width*self.height))"
   ]
  },
  {
   "cell_type": "code",
   "execution_count": 57,
   "metadata": {},
   "outputs": [],
   "source": [
    "rec = Parallelepipede(12,25,40)"
   ]
  },
  {
   "cell_type": "code",
   "execution_count": 58,
   "metadata": {},
   "outputs": [
    {
     "name": "stdout",
     "output_type": "stream",
     "text": [
      "The volume of Parallelepipede : 12000\n"
     ]
    }
   ],
   "source": [
    "rec.volume()"
   ]
  }
 ],
 "metadata": {
  "kernelspec": {
   "display_name": "Python 3",
   "language": "python",
   "name": "python3"
  },
  "language_info": {
   "codemirror_mode": {
    "name": "ipython",
    "version": 3
   },
   "file_extension": ".py",
   "mimetype": "text/x-python",
   "name": "python",
   "nbconvert_exporter": "python",
   "pygments_lexer": "ipython3",
   "version": "3.7.3"
  }
 },
 "nbformat": 4,
 "nbformat_minor": 2
}
